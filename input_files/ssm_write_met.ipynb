{
 "cells": [
  {
   "cell_type": "code",
   "execution_count": 1,
   "id": "d952f6eb-c00b-4721-8219-099e82c5682a",
   "metadata": {},
   "outputs": [],
   "source": [
    "in_file = \"/home/benr/wqmodels/ssm/freshwater_iav_1/data/ssm_met_2012+13.xlsx\"\n",
    "comment = \"MET file from appended 2012 0.65 alb and ssm_mc_0.65alb_2013.dat\"\n",
    "out_file = \"/home/benr/wqmodels/ssm/freshwater_iav_1/data/meteorologic_fullgrid.dat\"\n",
    "\n",
    "import pandas as pd"
   ]
  },
  {
   "cell_type": "code",
   "execution_count": 2,
   "id": "39f2fe86-bfa0-451b-b747-2ef0971d3053",
   "metadata": {},
   "outputs": [
    {
     "data": {
      "text/html": [
       "<div>\n",
       "<style scoped>\n",
       "    .dataframe tbody tr th:only-of-type {\n",
       "        vertical-align: middle;\n",
       "    }\n",
       "\n",
       "    .dataframe tbody tr th {\n",
       "        vertical-align: top;\n",
       "    }\n",
       "\n",
       "    .dataframe thead th {\n",
       "        text-align: right;\n",
       "    }\n",
       "</style>\n",
       "<table border=\"1\" class=\"dataframe\">\n",
       "  <thead>\n",
       "    <tr style=\"text-align: right;\">\n",
       "      <th></th>\n",
       "      <th>KT</th>\n",
       "      <th>TE</th>\n",
       "      <th>IO</th>\n",
       "      <th>FD</th>\n",
       "      <th>WS</th>\n",
       "    </tr>\n",
       "    <tr>\n",
       "      <th>JDAY</th>\n",
       "      <th></th>\n",
       "      <th></th>\n",
       "      <th></th>\n",
       "      <th></th>\n",
       "      <th></th>\n",
       "    </tr>\n",
       "  </thead>\n",
       "  <tbody>\n",
       "    <tr>\n",
       "      <th>0.0</th>\n",
       "      <td>14.94</td>\n",
       "      <td>23.03</td>\n",
       "      <td>2.283</td>\n",
       "      <td>0.244</td>\n",
       "      <td>3.974</td>\n",
       "    </tr>\n",
       "    <tr>\n",
       "      <th>0.5</th>\n",
       "      <td>14.94</td>\n",
       "      <td>23.03</td>\n",
       "      <td>2.283</td>\n",
       "      <td>0.244</td>\n",
       "      <td>3.974</td>\n",
       "    </tr>\n",
       "    <tr>\n",
       "      <th>1.5</th>\n",
       "      <td>14.94</td>\n",
       "      <td>23.03</td>\n",
       "      <td>3.828</td>\n",
       "      <td>0.244</td>\n",
       "      <td>5.476</td>\n",
       "    </tr>\n",
       "    <tr>\n",
       "      <th>2.5</th>\n",
       "      <td>14.94</td>\n",
       "      <td>23.03</td>\n",
       "      <td>1.072</td>\n",
       "      <td>0.244</td>\n",
       "      <td>7.277</td>\n",
       "    </tr>\n",
       "    <tr>\n",
       "      <th>3.5</th>\n",
       "      <td>14.94</td>\n",
       "      <td>23.03</td>\n",
       "      <td>4.543</td>\n",
       "      <td>0.244</td>\n",
       "      <td>6.439</td>\n",
       "    </tr>\n",
       "  </tbody>\n",
       "</table>\n",
       "</div>"
      ],
      "text/plain": [
       "         KT     TE     IO     FD     WS\n",
       "JDAY                                   \n",
       "0.0   14.94  23.03  2.283  0.244  3.974\n",
       "0.5   14.94  23.03  2.283  0.244  3.974\n",
       "1.5   14.94  23.03  3.828  0.244  5.476\n",
       "2.5   14.94  23.03  1.072  0.244  7.277\n",
       "3.5   14.94  23.03  4.543  0.244  6.439"
      ]
     },
     "execution_count": 2,
     "metadata": {},
     "output_type": "execute_result"
    }
   ],
   "source": [
    "df = pd.read_excel(in_file, index_col=0)\n",
    "df.head()"
   ]
  },
  {
   "cell_type": "code",
   "execution_count": 3,
   "id": "4402b784-ea3c-4cca-b647-73abc990e66b",
   "metadata": {},
   "outputs": [],
   "source": [
    "with open(out_file,\"w\") as f:\n",
    "    print(comment, file=f)\n",
    "    print('KT = coef of heat exchange (watts/m2/C) (not used), TE = equil temp (C) (not used)', file=f)\n",
    "    print('IO = PAR (E/m2/day), FD=Fraction of day, and WS = wind speed (m/s)', file=f)\n",
    "    print('    JDAY    KT      TE      IO      FD      WS', file=f)\n",
    "\n",
    "    for i,row in df.iterrows():\n",
    "        print(\"{:8.3f} {:7.3f} {:7.3f} {:7.3f} {:7.3f} {:7.3f}\".format(*([i]+list(row))), file=f)"
   ]
  },
  {
   "cell_type": "code",
   "execution_count": null,
   "id": "465804af-7db7-4437-9b71-06252ef8c7c8",
   "metadata": {},
   "outputs": [],
   "source": []
  }
 ],
 "metadata": {
  "kernelspec": {
   "display_name": "Python [conda env:ssm-analysis]",
   "language": "python",
   "name": "conda-env-ssm-analysis-py"
  },
  "language_info": {
   "codemirror_mode": {
    "name": "ipython",
    "version": 3
   },
   "file_extension": ".py",
   "mimetype": "text/x-python",
   "name": "python",
   "nbconvert_exporter": "python",
   "pygments_lexer": "ipython3",
   "version": "3.10.13"
  }
 },
 "nbformat": 4,
 "nbformat_minor": 5
}
